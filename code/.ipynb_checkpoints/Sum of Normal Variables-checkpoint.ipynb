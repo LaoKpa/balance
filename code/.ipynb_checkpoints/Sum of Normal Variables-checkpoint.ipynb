{
 "cells": [
  {
   "cell_type": "code",
   "execution_count": 53,
   "metadata": {},
   "outputs": [],
   "source": [
    "import numpy as np\n",
    "from scipy import stats\n",
    "import matplotlib.pyplot as plt\n",
    "%matplotlib inline"
   ]
  },
  {
   "cell_type": "code",
   "execution_count": null,
   "metadata": {},
   "outputs": [],
   "source": [
    "p_vals = []\n",
    "for i in range(100):\n",
    "    n_var = np.random.randint(1, 100)\n",
    "    mean = np.random.rand(100, 200, n_var)\n",
    "    cov = np.random.randn(n_var, n_var)\n",
    "    cov = np.dot(cov, cov.T)\n",
    "    cum_mean = np.sum(mean)\n",
    "    cum_var = np.sum(cov)\n",
    "    true_dist = stats.multivariate_normal(mean=mean, cov=cov)\n",
    "    true_samples = np.sum(true_dist.rvs(size=100000), axis=1)\n",
    "    cand_dist = stats.norm(loc=cum_mean, scale=np.sqrt(cum_var))\n",
    "    result = stats.kstest(true_samples, cand_dist.cdf)\n",
    "    p_vals.append(result.pvalue)"
   ]
  },
  {
   "cell_type": "code",
   "execution_count": 55,
   "metadata": {},
   "outputs": [
    {
     "name": "stdout",
     "output_type": "stream",
     "text": [
      "391.324233566 3.39535665873\n"
     ]
    },
    {
     "data": {
      "image/png": "[encoded data removed]",
      "text/plain": [
       "<matplotlib.figure.Figure at 0x7f119557c5c0>"
      ]
     },
     "metadata": {},
     "output_type": "display_data"
    }
   ],
   "source": []
  },
  {
   "cell_type": "code",
   "execution_count": 56,
   "metadata": {},
   "outputs": [
    {
     "name": "stdout",
     "output_type": "stream",
     "text": [
      "391.350529615 3.40977379719\n"
     ]
    },
    {
     "data": {
      "image/png": "[encoded data removed]",
      "text/plain": [
       "<matplotlib.figure.Figure at 0x7f11956e94a8>"
      ]
     },
     "metadata": {},
     "output_type": "display_data"
    }
   ],
   "source": [
    "\n",
    "samples = dist.rvs(size=100000)\n",
    "print(np.mean(samples), np.std(samples))\n",
    "plt.hist(samples)\n",
    "plt.show()"
   ]
  },
  {
   "cell_type": "code",
   "execution_count": 57,
   "metadata": {},
   "outputs": [
    {
     "name": "stdout",
     "output_type": "stream",
     "text": [
      "KstestResult(statistic=0.002714547048938809, pvalue=0.45262551053903038)\n"
     ]
    }
   ],
   "source": [
    "print(stats.kstest(samples, dist.cdf))"
   ]
  }
 ],
 "metadata": {
  "kernelspec": {
   "display_name": "Python 3",
   "language": "python",
   "name": "python3"
  },
  "language_info": {
   "codemirror_mode": {
    "name": "ipython",
    "version": 3
   },
   "file_extension": ".py",
   "mimetype": "text/x-python",
   "name": "python",
   "nbconvert_exporter": "python",
   "pygments_lexer": "ipython3",
   "version": "3.5.2"
  }
 },
 "nbformat": 4,
 "nbformat_minor": 2
}
