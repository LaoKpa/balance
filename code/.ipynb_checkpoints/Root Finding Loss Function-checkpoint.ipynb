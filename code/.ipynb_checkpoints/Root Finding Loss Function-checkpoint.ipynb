{
 "cells": [
  {
   "cell_type": "code",
   "execution_count": 38,
   "metadata": {},
   "outputs": [],
   "source": [
    "import numpy as np\n",
    "from scipy import stats, optimize\n",
    "\n",
    "def backorder_loss(q, x, d_mean, d_std, p_cost):\n",
    "    dist = stats.norm(d_mean[0], d_std[0])\n",
    "    penalty = dist.expect(lambda u: p_cost*(u - x - q), lb=(x+q))\n",
    "    return penalty\n",
    "\n",
    "def der_backorder_loss(q, x, d_mean, d_std, p_cost):\n",
    "    dist = stats.norm(d_mean[0], d_std[0])\n",
    "    der_penalty = p_cost*(1 - dist.cdf(x + q))\n",
    "    return der_penalty\n",
    "\n",
    "def holding_loss(q, x, d_mean, d_std, h_cost, tol=1e-6):\n",
    "    holding = 0\n",
    "    for mean, var in zip(np.cumsum(d_mean), np.cumsum(np.square(d_std))):\n",
    "        dist = stats.norm(mean, np.sqrt(var))\n",
    "        held = dist.expect(lambda u: h_cost*(x + q - u), lb=x, ub=(x+q))\n",
    "        if held < tol:\n",
    "            break\n",
    "        holding += held\n",
    "    return holding\n",
    "\n",
    "def der_holding_loss(q, x, d_mean, d_std, h_cost, tol=1e-6):\n",
    "    der_holding = 0\n",
    "    for mean, var in zip(np.cumsum(d_mean), np.cumsum(np.square(d_std))):\n",
    "        dist = stats.norm(mean, np.sqrt(var))\n",
    "        held = dist.cdf(x + q) - dist.cdf(x)\n",
    "        der_holding += h_cost*held\n",
    "    return der_holding"
   ]
  },
  {
   "cell_type": "markdown",
   "metadata": {},
   "source": [
    "### Bisection Method"
   ]
  },
  {
   "cell_type": "code",
   "execution_count": 51,
   "metadata": {},
   "outputs": [
    {
     "name": "stdout",
     "output_type": "stream",
     "text": [
      "Bisection: \n",
      "49 0\n",
      "174.5404092692482\n",
      "Newton: \n",
      "54 5\n",
      "174.540409269\n"
     ]
    }
   ],
   "source": [
    "demand_mean = np.repeat(175, 50)\n",
    "demand_std = np.repeat(15, 50)\n",
    "x = 10\n",
    "p_cost = 5\n",
    "h_cost = 1\n",
    "\n",
    "j = 0\n",
    "d = 0\n",
    "def r(q):\n",
    "    global j \n",
    "    j += 1\n",
    "    return holding_loss(q, x, demand_mean, demand_std, h_cost) \\\n",
    "        - backorder_loss(q, x, demand_mean, demand_std, p_cost)\n",
    "def dr(q):\n",
    "    global d \n",
    "    d += 1\n",
    "    return der_holding_loss(q, x, demand_mean, demand_std, h_cost) \\\n",
    "        + der_backorder_loss(q, x, demand_mean, demand_std, p_cost)\n",
    "print(\"Bisection: \")\n",
    "q_bisect, res = optimize.bisect(r, 100, 300, full_output=True)\n",
    "print(j, d)\n",
    "print(q_bisect)\n",
    "print(\"Newton: \")\n",
    "q_newton = optimize.newton(r, 170, fprime=dr)\n",
    "print(j, d)\n",
    "print(q_newton)\n",
    "grid_q = np.arange(140, 200)\n",
    "grid_r = np.zeros_like(grid_q)\n",
    "grid_dr = np.zeros_like(grid_q)\n",
    "for i, gq in enumerate(grid_q):\n",
    "    grid_r[i] = r(gq)\n",
    "    grid_dr[i] = dr(gq)"
   ]
  },
  {
   "cell_type": "code",
   "execution_count": 57,
   "metadata": {},
   "outputs": [
    {
     "name": "stdout",
     "output_type": "stream",
     "text": [
      "Populating the interactive namespace from numpy and matplotlib\n"
     ]
    },
    {
     "data": {
      "image/png": "[encoded data removed]",
      "text/plain": [
       "<matplotlib.figure.Figure at 0x7f049087b5f8>"
      ]
     },
     "metadata": {},
     "output_type": "display_data"
    }
   ],
   "source": [
    "%pylab inline\n",
    "pylab.rcParams['figure.figsize'] = (10, 6)\n",
    "import matplotlib.pyplot as plt\n",
    "\n",
    "plt.clf()\n",
    "plt.axhline(y=0, c=\"k\")\n",
    "plt.title(\"Loss Root for 50 Arbitrary Periods ($X_t = 10$, $D \\sim N(175, 15)$, $p = 5$, $h = 1$)\", fontsize=14)\n",
    "plt.plot(grid_q, grid_r, \"b\", markersize=2, label=\"$r_s^B(q_s)$\")\n",
    "plt.plot([q], [r(q)], \"ro\", label=\"$q_s^B$\")\n",
    "plt.legend()\n",
    "plt.savefig(\"root.pdf\")\n",
    "plt.show()"
   ]
  },
  {
   "cell_type": "code",
   "execution_count": 77,
   "metadata": {},
   "outputs": [],
   "source": [
    "%load_ext Cython"
   ]
  },
  {
   "cell_type": "code",
   "execution_count": 95,
   "metadata": {},
   "outputs": [
    {
     "name": "stdout",
     "output_type": "stream",
     "text": [
      "In file included from /usr/local/lib/python3.5/dist-packages/numpy/core/include/numpy/ndarraytypes.h:1809:0,\n",
      "                 from /usr/local/lib/python3.5/dist-packages/numpy/core/include/numpy/ndarrayobject.h:18,\n",
      "                 from /usr/local/lib/python3.5/dist-packages/numpy/core/include/numpy/arrayobject.h:4,\n",
      "                 from /home/andrew/.cache/ipython/cython/_cython_magic_2d9847b67a020e7afc15600176de97d5.c:539:\n",
      "/usr/local/lib/python3.5/dist-packages/numpy/core/include/numpy/npy_1_7_deprecated_api.h:15:2: warning: #warning \"Using deprecated NumPy API, disable it by \" \"#defining NPY_NO_DEPRECATED_API NPY_1_7_API_VERSION\" [-Wcpp]\n",
      " #warning \"Using deprecated NumPy API, disable it by \" \\\n",
      "  ^\n"
     ]
    }
   ],
   "source": [
    "%%cython\n",
    "import numpy as np\n",
    "cimport numpy as np\n",
    "from libc.math cimport pow\n",
    "\n",
    "cdef double pos(double x):\n",
    "    if x > 0:\n",
    "        return x\n",
    "    else:\n",
    "        return 0.0\n",
    "\n",
    "cdef double holding(double q, double x, double[:] d, double a, double h):\n",
    "    cdef total_holding = 0\n",
    "    cdef n_held = 0\n",
    "    cdef cum_demand = 0\n",
    "    for i in range(len(d)):\n",
    "        cum_demand += d[i]\n",
    "        n_held = pos(q - pos(cum_demand - x))\n",
    "        if n_held <= 0:\n",
    "            break\n",
    "        else:\n",
    "            print(pow(a, i))\n",
    "            total_holding += pow(a, i)*h*n_held\n",
    "    return total_holding\n",
    "        \n",
    "cdef double penalty(double q, double x, double d, double p):\n",
    "    return p*pos(d - x - q)\n",
    "    \n",
    "def loss_max(q, x, d, a, p, h):\n",
    "    return max(holding(q, x, d, a, h), penalty(q, x, d[0], p))\n",
    "\n",
    "def loss_root(q, x, d, a, p, h):\n",
    "    return holding(q, x, d, a, h) - penalty(q, x, d[0], p)"
   ]
  },
  {
   "cell_type": "code",
   "execution_count": 96,
   "metadata": {},
   "outputs": [
    {
     "name": "stdout",
     "output_type": "stream",
     "text": [
      "174.61129516155424\n"
     ]
    }
   ],
   "source": [
    "n_reps = 5000\n",
    "q = 170\n",
    "qs = [q]\n",
    "for r in range(1, n_reps):\n",
    "    demand = np.random.multivariate_normal(np.repeat(175, 50), np.diag(np.repeat(15**2, 50)))\n",
    "    q -= (1/r)*loss_root(q, 10, demand, 1, 5, 1)\n",
    "    qs.append(q)\n",
    "print(q)"
   ]
  },
  {
   "cell_type": "code",
   "execution_count": 97,
   "metadata": {},
   "outputs": [
    {
     "data": {
      "image/png": "[encoded data removed]",
      "text/plain": [
       "<matplotlib.figure.Figure at 0x7f0460bd3a90>"
      ]
     },
     "metadata": {},
     "output_type": "display_data"
    }
   ],
   "source": [
    "plt.plot(qs)\n",
    "plt.show()"
   ]
  }
 ],
 "metadata": {
  "kernelspec": {
   "display_name": "Python 3",
   "language": "python",
   "name": "python3"
  },
  "language_info": {
   "codemirror_mode": {
    "name": "ipython",
    "version": 3
   },
   "file_extension": ".py",
   "mimetype": "text/x-python",
   "name": "python",
   "nbconvert_exporter": "python",
   "pygments_lexer": "ipython3",
   "version": "3.5.2"
  }
 },
 "nbformat": 4,
 "nbformat_minor": 2
}
