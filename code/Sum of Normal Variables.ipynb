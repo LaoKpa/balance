{
 "cells": [
  {
   "cell_type": "code",
   "execution_count": 53,
   "metadata": {},
   "outputs": [],
   "source": [
    "import numpy as np\n",
    "from scipy import stats\n",
    "import matplotlib.pyplot as plt\n",
    "%matplotlib inline"
   ]
  },
  {
   "cell_type": "code",
   "execution_count": 90,
   "metadata": {},
   "outputs": [],
   "source": [
    "p_vals = []\n",
    "for i in range(1000):\n",
    "    try:\n",
    "        n_var = np.random.randint(2, 100)\n",
    "        mean = np.random.rand(n_var)\n",
    "        cov = np.random.randn(n_var, n_var)\n",
    "        cov = np.dot(cov, cov.T)\n",
    "        cum_mean = np.sum(mean)\n",
    "        cum_var = np.sum(cov)\n",
    "        true_dist = stats.multivariate_normal(mean=mean, cov=cov)\n",
    "        true_samples = np.sum(true_dist.rvs(size=100), axis=1)\n",
    "        #result = stats.normaltest(true_samples)\n",
    "        cand_dist = stats.norm(loc=cum_mean, scale=np.sqrt(cum_var))\n",
    "        result = stats.kstest(true_samples, cand_dist.cdf)\n",
    "        p_vals.append(result.pvalue)\n",
    "    except:\n",
    "        continue"
   ]
  },
  {
   "cell_type": "code",
   "execution_count": 91,
   "metadata": {},
   "outputs": [
    {
     "name": "stdout",
     "output_type": "stream",
     "text": [
      "KstestResult(statistic=0.054135324494364201, pvalue=0.0054794111311320393)\n"
     ]
    },
    {
     "data": {
      "image/png": "[encoded data removed]",
      "text/plain": [
       "<matplotlib.figure.Figure at 0x7f11957e2898>"
      ]
     },
     "metadata": {},
     "output_type": "display_data"
    }
   ],
   "source": [
    "print(stats.kstest(p_vals, 'uniform'))\n",
    "plt.hist(p_vals)\n",
    "plt.show()"
   ]
  }
 ],
 "metadata": {
  "kernelspec": {
   "display_name": "Python 3",
   "language": "python",
   "name": "python3"
  },
  "language_info": {
   "codemirror_mode": {
    "name": "ipython",
    "version": 3
   },
   "file_extension": ".py",
   "mimetype": "text/x-python",
   "name": "python",
   "nbconvert_exporter": "python",
   "pygments_lexer": "ipython3",
   "version": "3.5.2"
  }
 },
 "nbformat": 4,
 "nbformat_minor": 2
}
