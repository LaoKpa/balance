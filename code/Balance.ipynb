{
 "cells": [
  {
   "cell_type": "code",
   "execution_count": 1,
   "metadata": {},
   "outputs": [],
   "source": [
    "import numpy as np\n",
    "from scipy import optimize, stats"
   ]
  },
  {
   "cell_type": "markdown",
   "metadata": {},
   "source": [
    "### Stochastic Inventory Problem for Discrete Demand"
   ]
  },
  {
   "cell_type": "code",
   "execution_count": null,
   "metadata": {},
   "outputs": [],
   "source": [
    "def backorder_loss(q, x, prob, p_cost):\n",
    "    penalty = p_cost*(val[0, (x+q):] - x - q).dot(prob[0, (x+q):])\n",
    "    return penalty\n",
    "\n",
    "def der_backorder_loss(q, x, val, prob, p_cost):\n",
    "    interval = np.where(val[0, :] > x + q)\n",
    "    der_penalty = p_cost*np.sum(prob[0, interval])\n",
    "    return der_penalty\n",
    "\n",
    "def holding_loss(q, x, val, prob, h_cost, tol=1e-6):\n",
    "    holding = 0\n",
    "    for mean, var in zip(np.cumsum(d_mean), np.cumsum(np.square(d_std))):\n",
    "        dist = stats.norm(mean, np.sqrt(var))\n",
    "        held = dist.expect(lambda u: h_cost*(x + q - u), lb=x, ub=(x+q))\n",
    "        if held < tol:\n",
    "            break\n",
    "        holding += held\n",
    "    return holding\n",
    "\n",
    "def der_holding_loss(q, x, d_mean, d_std, h_cost, tol=1e-6):\n",
    "    der_holding = 0\n",
    "    for mean, var in zip(np.cumsum(d_mean), np.cumsum(np.square(d_std))):\n",
    "        dist = stats.norm(mean, np.sqrt(var))\n",
    "        held = dist.cdf(x + q) - dist.cdf(x)\n",
    "        der_holding += h_cost*held\n",
    "    return der_holding\n",
    "\n",
    "def sicp_root(q, x, d_mean, d_std, h, p):\n",
    "    return holding_loss(q, x, d_mean, d_std, h) \\\n",
    "        - backorder_loss(q, x, d_mean, d_std, p)\n",
    "\n",
    "def sicp_root_der(q, x, d_mean, d_std, h, p):\n",
    "    return der_holding_loss(q, x, d_mean, d_std, h) \\\n",
    "        + der_backorder_loss(q, x, d_mean, d_std, p)\n",
    "\n",
    "def sicp_max(q, x, d_mean, d_std, h, p):\n",
    "    return max(holding_loss(q, x, d_mean, d_std, h),\n",
    "               backorder_loss(q, x, d_mean, d_std, p))"
   ]
  }
 ],
 "metadata": {
  "kernelspec": {
   "display_name": "Python 3",
   "language": "python",
   "name": "python3"
  },
  "language_info": {
   "codemirror_mode": {
    "name": "ipython",
    "version": 3
   },
   "file_extension": ".py",
   "mimetype": "text/x-python",
   "name": "python",
   "nbconvert_exporter": "python",
   "pygments_lexer": "ipython3",
   "version": "3.5.2"
  }
 },
 "nbformat": 4,
 "nbformat_minor": 2
}
